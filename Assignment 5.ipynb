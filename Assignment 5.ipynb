{
 "cells": [
  {
   "cell_type": "markdown",
   "id": "cf5fc8be",
   "metadata": {},
   "source": [
    "# Question 1"
   ]
  },
  {
   "cell_type": "code",
   "execution_count": 1,
   "id": "e991389a",
   "metadata": {},
   "outputs": [
    {
     "data": {
      "text/plain": [
       "Response(data=None, includes={}, errors=[{'value': '(\"python\") place:Chicago has:geo', 'id': '1640175429523742720', 'title': 'DuplicateRule', 'type': 'https://api.twitter.com/2/problems/duplicate-rules'}], meta={'sent': '2023-03-27T02:20:04.904Z', 'summary': {'created': 0, 'not_created': 1, 'valid': 0, 'invalid': 1}})"
      ]
     },
     "execution_count": 1,
     "metadata": {},
     "output_type": "execute_result"
    }
   ],
   "source": [
    "import tweepy\n",
    "from tweepy import StreamingClient, StreamRule\n",
    "import os\n",
    "bearer_token='AAAAAAAAAAAAAAAAAAAAAMURQQEAAAAACUCg%2BQO0plPdQIDVTqGxoIOAYxk%3D0YUtjkbahw7FssN0evO5qj7P8e5WtODEOcPj5E5qafPljBK5gN'\n",
    "class TweetPrinterV2(tweepy.StreamingClient): \n",
    "    def on_tweet(self, tweet):\n",
    "        print(f\"{tweet.id} {tweet.created_at} ({tweet.author_id}): {tweet.text}\")\n",
    "printer=TweetPrinterV2(bearer_token)\n",
    "location_box=[-87.6298,41.8781,-86.6298,40.8781]\n",
    "r = StreamRule(value='(\"p\")bounding_box:[-87.6298,41.8781,-86.6298,40.8781]')\n",
    "printer.add_rules(r)\n",
    "r1 = StreamRule(value='(\"python\") place:Chicago has:geo')\n",
    "printer.add_rules(r1)"
   ]
  },
  {
   "cell_type": "markdown",
   "id": "a6346a95",
   "metadata": {},
   "source": [
    "# Question 2"
   ]
  },
  {
   "cell_type": "code",
   "execution_count": 2,
   "id": "a59ef9df",
   "metadata": {},
   "outputs": [],
   "source": [
    "import tweepy\n",
    "consumer_key='VXzRzW62biX8KW7A4XycqIeCL'\n",
    "consumer_secret='Dr1ak1sdfL2CdpGCp2IWYg3xbOYFWmJ2H3Tm6ZkgMPo5ejqBrY'\n",
    "access_token='78477561-2SitfsaoG4zvrq5jk1oMGahSgtBvQ9b7noe1XNNSX'\n",
    "access_token_secret='vYNqoq4IrLpRINUQdn06aAWaeoSz7G3PNNSSt23XIlx1F'\n",
    "auth = tweepy.OAuthHandler(consumer_key, consumer_secret)\n",
    "auth.set_access_token(access_token, access_token_secret)"
   ]
  },
  {
   "cell_type": "code",
   "execution_count": 3,
   "id": "03fa599d",
   "metadata": {},
   "outputs": [
    {
     "name": "stdout",
     "output_type": "stream",
     "text": [
      "@notcapnamerica Here I was thinking that the boomer crowd over the last 3 years has neglected medical advice and “d… https://t.co/qq9K7pDfWQ\n",
      "@soyric_ https://t.co/KJ01V5KtL4\n",
      "@RonFilipkowski That’s stupid lol.\n",
      "@Goblin_Summoner Show him your Red dot laser. He’ll be so jealous\n",
      "@hwinkler4real They lack your self reflection. Your Randy Rainbow podcast episode is a very useful reference for an… https://t.co/BFREWeUAMa\n",
      "@SEGAmastergirl Yeah! Like okay they aren’t like covered in chocolate or sprinkles or literally 90% sugar, OATMEAL… https://t.co/6sYKBwxDSy\n",
      "@ShitBsbPlyrsSay Playin’ Hard Ball!\n",
      "@DragonGirlJosie go... the stars have foretold it... it is your fated path\n",
      "Nighttime Joon tales:  Ninjoon befriends a sleepwalking bear, gently guiding it back to its den and ensuring its sa… https://t.co/osbL1Gr2Vd\n",
      "@woldair_ meeeeee omg\n",
      "@BlueWaverAgain @housewives911 @melissagorga @joegorga @Teresa_Giudice @CarolineManzo @daniellestaub @JenniferAydin… https://t.co/ZOJrjS7ajl\n",
      "Step back in time to Grandma's kitchen in Jazz'e Junque Kitchen Korner in Affordable Antiques 1508 N Naper Blvd Nap… https://t.co/9cYOm6w8yS\n",
      "@EmranRashid3 Another horror. 😣😔\n",
      "Both ❤️ cause if ion do none else imma catch a flight https://t.co/oQbU7B2VnT\n",
      "https://t.co/kY7On0v0qm\n"
     ]
    }
   ],
   "source": [
    "geocode = \"41.8781,-87.6298,100km\"\n",
    "api = tweepy.API(auth, wait_on_rate_limit=True)\n",
    "q=\"\"\n",
    "tweets = api.search_tweets(q, geocode=geocode)\n",
    "import json\n",
    "f = open('./Data.json', 'w')\n",
    "for tweet in tweets:\n",
    "    json_tweet = tweet._json\n",
    "    f.write(json.dumps(json_tweet))\n",
    "    f.write('\\n')\n",
    "for tweet in tweets:\n",
    "    print(tweet.text)"
   ]
  },
  {
   "cell_type": "markdown",
   "id": "3b7df100",
   "metadata": {},
   "source": [
    "# Question 3"
   ]
  },
  {
   "cell_type": "code",
   "execution_count": 4,
   "id": "5cfb7b72",
   "metadata": {},
   "outputs": [
    {
     "name": "stdout",
     "output_type": "stream",
     "text": [
      "dict_keys(['created_at', 'id', 'id_str', 'text', 'truncated', 'entities', 'metadata', 'source', 'in_reply_to_status_id', 'in_reply_to_status_id_str', 'in_reply_to_user_id', 'in_reply_to_user_id_str', 'in_reply_to_screen_name', 'user', 'geo', 'coordinates', 'place', 'contributors', 'is_quote_status', 'retweet_count', 'favorite_count', 'favorited', 'retweeted', 'lang'])\n"
     ]
    }
   ],
   "source": [
    "import json\n",
    "data=[]\n",
    "with open('./Data.json', 'r') as File:\n",
    "    for i in File:\n",
    "        data.append(json.loads(i))\n",
    "print(data[0].keys())"
   ]
  },
  {
   "cell_type": "code",
   "execution_count": 5,
   "id": "e67056ed",
   "metadata": {},
   "outputs": [
    {
     "name": "stdout",
     "output_type": "stream",
     "text": [
      "@notcapnamerica Here I was thinking that the boomer crowd over the last 3 years has neglected medical advice and “d… https://t.co/qq9K7pDfWQ\n",
      "@soyric_ https://t.co/KJ01V5KtL4\n",
      "@RonFilipkowski That’s stupid lol.\n",
      "@Goblin_Summoner Show him your Red dot laser. He’ll be so jealous\n",
      "@hwinkler4real They lack your self reflection. Your Randy Rainbow podcast episode is a very useful reference for an… https://t.co/BFREWeUAMa\n",
      "@SEGAmastergirl Yeah! Like okay they aren’t like covered in chocolate or sprinkles or literally 90% sugar, OATMEAL… https://t.co/6sYKBwxDSy\n",
      "@ShitBsbPlyrsSay Playin’ Hard Ball!\n",
      "@DragonGirlJosie go... the stars have foretold it... it is your fated path\n",
      "Nighttime Joon tales:  Ninjoon befriends a sleepwalking bear, gently guiding it back to its den and ensuring its sa… https://t.co/osbL1Gr2Vd\n",
      "@woldair_ meeeeee omg\n",
      "@BlueWaverAgain @housewives911 @melissagorga @joegorga @Teresa_Giudice @CarolineManzo @daniellestaub @JenniferAydin… https://t.co/ZOJrjS7ajl\n",
      "Step back in time to Grandma's kitchen in Jazz'e Junque Kitchen Korner in Affordable Antiques 1508 N Naper Blvd Nap… https://t.co/9cYOm6w8yS\n",
      "@EmranRashid3 Another horror. 😣😔\n"
     ]
    }
   ],
   "source": [
    "for i in data:\n",
    "    print(i[\"text\"])"
   ]
  },
  {
   "cell_type": "markdown",
   "id": "7323aa90",
   "metadata": {},
   "source": [
    "# Question 4"
   ]
  },
  {
   "cell_type": "code",
   "execution_count": 6,
   "id": "51793eb0",
   "metadata": {},
   "outputs": [],
   "source": [
    "d={\"name\":\"aaryan\",\"major\":\"ds\",\"track\":\"computational\"}"
   ]
  },
  {
   "cell_type": "code",
   "execution_count": 7,
   "id": "6a87dbee",
   "metadata": {},
   "outputs": [
    {
     "ename": "KeyError",
     "evalue": "'degree'",
     "output_type": "error",
     "traceback": [
      "\u001b[1;31m---------------------------------------------------------------------------\u001b[0m",
      "\u001b[1;31mKeyError\u001b[0m                                  Traceback (most recent call last)",
      "\u001b[1;32m~\\AppData\\Local\\Temp\\ipykernel_26768\\2097192716.py\u001b[0m in \u001b[0;36m<module>\u001b[1;34m\u001b[0m\n\u001b[1;32m----> 1\u001b[1;33m \u001b[0md\u001b[0m\u001b[1;33m[\u001b[0m\u001b[1;34m\"degree\"\u001b[0m\u001b[1;33m]\u001b[0m\u001b[1;33m\u001b[0m\u001b[1;33m\u001b[0m\u001b[0m\n\u001b[0m",
      "\u001b[1;31mKeyError\u001b[0m: 'degree'"
     ]
    }
   ],
   "source": [
    "d[\"degree\"]"
   ]
  },
  {
   "cell_type": "code",
   "execution_count": 8,
   "id": "2788ea38",
   "metadata": {},
   "outputs": [
    {
     "name": "stdout",
     "output_type": "stream",
     "text": [
      "{'name': 'aaryan', 'major': 'ds', 'track': 'computational'}\n",
      "3\n",
      "dict_keys(['name', 'major', 'track'])\n",
      "dict_items([('name', 'aaryan'), ('major', 'ds'), ('track', 'computational')])\n",
      "dict_values(['aaryan', 'ds', 'computational'])\n",
      "aaryan\n"
     ]
    }
   ],
   "source": [
    "print(str(d))\n",
    "print(len(d))\n",
    "print(d.keys())\n",
    "print(d.items())\n",
    "print(d.values())\n",
    "print(d.get(\"name\"))"
   ]
  },
  {
   "cell_type": "code",
   "execution_count": 9,
   "id": "2e3741e4",
   "metadata": {},
   "outputs": [],
   "source": [
    "#dictionaries are used for quick lookups for example in a big data set\n",
    "#instead of traversing through the whole list it is better to use the key\n",
    "#for the dictionary it is in to get the value\n",
    "#it can also be used to interpret the json format of data which\n",
    "#is not possible in tuples and lists"
   ]
  },
  {
   "cell_type": "markdown",
   "id": "ef64f055",
   "metadata": {},
   "source": [
    "# Question 5"
   ]
  },
  {
   "cell_type": "code",
   "execution_count": 10,
   "id": "291e974f",
   "metadata": {},
   "outputs": [],
   "source": [
    "import nltk\n",
    "text = nltk.word_tokenize(\"They wind back the clock, while we chase after the wind\")"
   ]
  },
  {
   "cell_type": "code",
   "execution_count": 11,
   "id": "fcb60cbe",
   "metadata": {},
   "outputs": [
    {
     "data": {
      "text/plain": [
       "['They',\n",
       " 'wind',\n",
       " 'back',\n",
       " 'the',\n",
       " 'clock',\n",
       " ',',\n",
       " 'while',\n",
       " 'we',\n",
       " 'chase',\n",
       " 'after',\n",
       " 'the',\n",
       " 'wind']"
      ]
     },
     "execution_count": 11,
     "metadata": {},
     "output_type": "execute_result"
    }
   ],
   "source": [
    "text"
   ]
  },
  {
   "cell_type": "code",
   "execution_count": 12,
   "id": "77361a92",
   "metadata": {
    "scrolled": true
   },
   "outputs": [
    {
     "data": {
      "text/plain": [
       "[('They', 'PRP'),\n",
       " ('wind', 'VBP'),\n",
       " ('back', 'RB'),\n",
       " ('the', 'DT'),\n",
       " ('clock', 'NN'),\n",
       " (',', ','),\n",
       " ('while', 'IN'),\n",
       " ('we', 'PRP'),\n",
       " ('chase', 'VBP'),\n",
       " ('after', 'IN'),\n",
       " ('the', 'DT'),\n",
       " ('wind', 'NN')]"
      ]
     },
     "execution_count": 12,
     "metadata": {},
     "output_type": "execute_result"
    }
   ],
   "source": [
    "nltk.pos_tag(text)"
   ]
  },
  {
   "cell_type": "code",
   "execution_count": 13,
   "id": "93eb1dbe",
   "metadata": {},
   "outputs": [
    {
     "name": "stdout",
     "output_type": "stream",
     "text": [
      "They:['DH', 'EY1']\n",
      "wind:['W', 'AY1', 'N', 'D']\n",
      "back:['B', 'AE1', 'K']\n",
      "the:['DH', 'AH0']\n",
      "clock:['K', 'L', 'AA1', 'K']\n",
      "while:['W', 'AY1', 'L']\n",
      "we:['W', 'IY1']\n",
      "chase:['CH', 'EY1', 'S']\n",
      "after:['AE1', 'F', 'T', 'ER0']\n",
      "the:['DH', 'AH0']\n",
      "wind:['W', 'AY1', 'N', 'D']\n"
     ]
    }
   ],
   "source": [
    "import cmudict\n",
    "d = cmudict.dict()\n",
    "for word in text:\n",
    "    pronunciation = d.get(word.lower())\n",
    "    if pronunciation:\n",
    "        print(f'{word}:{pronunciation[0]}')"
   ]
  },
  {
   "cell_type": "code",
   "execution_count": null,
   "id": "d8bfe232",
   "metadata": {},
   "outputs": [],
   "source": []
  }
 ],
 "metadata": {
  "kernelspec": {
   "display_name": "Python 3 (ipykernel)",
   "language": "python",
   "name": "python3"
  },
  "language_info": {
   "codemirror_mode": {
    "name": "ipython",
    "version": 3
   },
   "file_extension": ".py",
   "mimetype": "text/x-python",
   "name": "python",
   "nbconvert_exporter": "python",
   "pygments_lexer": "ipython3",
   "version": "3.9.13"
  }
 },
 "nbformat": 4,
 "nbformat_minor": 5
}
